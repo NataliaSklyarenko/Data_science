{
  "nbformat": 4,
  "nbformat_minor": 0,
  "metadata": {
    "colab": {
      "provenance": [],
      "authorship_tag": "ABX9TyM3goMEY7XUUBLA/UmCFSTC",
      "include_colab_link": true
    },
    "kernelspec": {
      "name": "python3",
      "display_name": "Python 3"
    },
    "language_info": {
      "name": "python"
    }
  },
  "cells": [
    {
      "cell_type": "markdown",
      "metadata": {
        "id": "view-in-github",
        "colab_type": "text"
      },
      "source": [
        "<a href=\"https://colab.research.google.com/github/NataliaSklyarenko/Data_science/blob/main/Hw2_1.ipynb\" target=\"_parent\"><img src=\"https://colab.research.google.com/assets/colab-badge.svg\" alt=\"Open In Colab\"/></a>"
      ]
    },
    {
      "cell_type": "code",
      "execution_count": 18,
      "metadata": {
        "colab": {
          "base_uri": "https://localhost:8080/",
          "height": 998
        },
        "collapsed": true,
        "id": "MibaPhcqnA0z",
        "outputId": "f96cf163-dfeb-44fb-a762-6553303a4b4e"
      },
      "outputs": [
        {
          "output_type": "stream",
          "name": "stdout",
          "text": [
            "<bound method NDFrame.head of                Регіон  1950  1960  1970  1990  2000  2012  2014  2019\n",
            "0                Крим  23.0  20.6  16.0  13.0   7.3  12.6     —     —\n",
            "1           Вінницька  22.4  19.2  14.2  12.4   8.4  11.2  10.9   7.6\n",
            "2           Волинська  24.7  25.0  17.9  15.3  11.2  14.8  14.1  10.1\n",
            "3    Дніпропетровська  20.4  20.4  15.1  12.3   7.1  11.2  11.1   7.1\n",
            "4            Донецька  27.1  21.4  14.0  10.9   6.1   9.8   8.2     —\n",
            "5         Житомирська  26.1  22.3  15.9  12.9   8.9  12.2  12.0   7.9\n",
            "6        Закарпатська  31.4  27.3  20.7  16.8  11.5  15.1  14.6  10.4\n",
            "7          Запорізька  21.9  19.7  15.0  12.4   7.1  10.6  10.6   6.8\n",
            "8   Івано-Франківська  24.3  24.8  18.2  15.5  10.3  12.4  12.2   8.8\n",
            "9            Київська  20.4  18.9  15.6  12.3   7.3  12.2  12.1   8.0\n",
            "10     Кіровоградська  21.6  17.1  14.5  12.6   7.9  11.0  10.8   6.8\n",
            "11          Луганська  26.2  23.5  14.4  11.6   6.2   9.6   5.1     —\n",
            "12          Львівська  23.4  24.0  17.1  14.0   9.1  11.9  11.9   8.7\n",
            "13       Миколаївська  21.1  19.4  15.5  13.7   8.0  11.5  11.2   7.1\n",
            "14            Одеська  24.1  19.2  14.8  12.6   8.0  12.7  12.3   8.8\n",
            "15         Полтавська  18.6  16.3  13.1  11.8   7.0   9.9  10.0   6.5\n",
            "16         Рівненська  26.9  26.7  19.3  15.8  11.8  15.9  14.8  10.7\n",
            "17            Сумська  21.6  18.4  13.2  11.5   7.0   9.7   9.2   6.0\n",
            "18      Тернопільська  21.3  21.6  15.7  14.2   9.2  11.3  10.9   7.6\n",
            "19         Харківська  19.7  17.3  14.0  11.4   6.8   9.9  10.1   6.8\n",
            "20         Херсонська  20.8  21.4  16.6  14.3   8.5  11.7  11.5   8.1\n",
            "21        Хмельницька  23.4  19.8  14.8  12.9   8.5  11.3  11.2   7.9\n",
            "22          Черкаська  20.5  17.9  14.4  12.3   7.5  10.0   9.8   6.4\n",
            "23        Чернівецька  24.7  21.8  17.0  14.8  10.1  12.8  12.9   9.2\n",
            "24       Чернігівська  22.0  18.3  12.7  10.8   6.9   9.4   9.0   6.1\n",
            "25               Київ   NaN  17.4  15.9  12.0   7.3  12.0  12.1  11.0\n",
            "26        Севастополь   NaN   NaN   NaN  12.5   7.0  12.0     —     —\n",
            "27            Україна  22.8  20.5  15.2  12.6   7.8  11.4  11.1   8.1>\n",
            "Знайдено таблиць: 28\n"
          ]
        },
        {
          "output_type": "error",
          "ename": "KeyError",
          "evalue": "0",
          "traceback": [
            "\u001b[0;31m---------------------------------------------------------------------------\u001b[0m",
            "\u001b[0;31mKeyError\u001b[0m                                  Traceback (most recent call last)",
            "\u001b[0;32m/usr/local/lib/python3.10/dist-packages/pandas/core/indexes/base.py\u001b[0m in \u001b[0;36mget_loc\u001b[0;34m(self, key)\u001b[0m\n\u001b[1;32m   3652\u001b[0m         \u001b[0;32mtry\u001b[0m\u001b[0;34m:\u001b[0m\u001b[0;34m\u001b[0m\u001b[0;34m\u001b[0m\u001b[0m\n\u001b[0;32m-> 3653\u001b[0;31m             \u001b[0;32mreturn\u001b[0m \u001b[0mself\u001b[0m\u001b[0;34m.\u001b[0m\u001b[0m_engine\u001b[0m\u001b[0;34m.\u001b[0m\u001b[0mget_loc\u001b[0m\u001b[0;34m(\u001b[0m\u001b[0mcasted_key\u001b[0m\u001b[0;34m)\u001b[0m\u001b[0;34m\u001b[0m\u001b[0;34m\u001b[0m\u001b[0m\n\u001b[0m\u001b[1;32m   3654\u001b[0m         \u001b[0;32mexcept\u001b[0m \u001b[0mKeyError\u001b[0m \u001b[0;32mas\u001b[0m \u001b[0merr\u001b[0m\u001b[0;34m:\u001b[0m\u001b[0;34m\u001b[0m\u001b[0;34m\u001b[0m\u001b[0m\n",
            "\u001b[0;32m/usr/local/lib/python3.10/dist-packages/pandas/_libs/index.pyx\u001b[0m in \u001b[0;36mpandas._libs.index.IndexEngine.get_loc\u001b[0;34m()\u001b[0m\n",
            "\u001b[0;32m/usr/local/lib/python3.10/dist-packages/pandas/_libs/index.pyx\u001b[0m in \u001b[0;36mpandas._libs.index.IndexEngine.get_loc\u001b[0;34m()\u001b[0m\n",
            "\u001b[0;32mpandas/_libs/hashtable_class_helper.pxi\u001b[0m in \u001b[0;36mpandas._libs.hashtable.PyObjectHashTable.get_item\u001b[0;34m()\u001b[0m\n",
            "\u001b[0;32mpandas/_libs/hashtable_class_helper.pxi\u001b[0m in \u001b[0;36mpandas._libs.hashtable.PyObjectHashTable.get_item\u001b[0;34m()\u001b[0m\n",
            "\u001b[0;31mKeyError\u001b[0m: 0",
            "\nThe above exception was the direct cause of the following exception:\n",
            "\u001b[0;31mKeyError\u001b[0m                                  Traceback (most recent call last)",
            "\u001b[0;32m<ipython-input-18-8248146ec53a>\u001b[0m in \u001b[0;36m<cell line: 12>\u001b[0;34m()\u001b[0m\n\u001b[1;32m     10\u001b[0m \u001b[0;34m\u001b[0m\u001b[0m\n\u001b[1;32m     11\u001b[0m \u001b[0;31m# Вибір потрібної таблиці\u001b[0m\u001b[0;34m\u001b[0m\u001b[0;34m\u001b[0m\u001b[0m\n\u001b[0;32m---> 12\u001b[0;31m \u001b[0mtable1\u001b[0m \u001b[0;34m=\u001b[0m \u001b[0mdf\u001b[0m\u001b[0;34m[\u001b[0m\u001b[0;36m0\u001b[0m\u001b[0;34m]\u001b[0m\u001b[0;34m\u001b[0m\u001b[0;34m\u001b[0m\u001b[0m\n\u001b[0m\u001b[1;32m     13\u001b[0m \u001b[0;34m\u001b[0m\u001b[0m\n\u001b[1;32m     14\u001b[0m \u001b[0;31m# Виведення перших рядків таблиці\u001b[0m\u001b[0;34m\u001b[0m\u001b[0;34m\u001b[0m\u001b[0m\n",
            "\u001b[0;32m/usr/local/lib/python3.10/dist-packages/pandas/core/frame.py\u001b[0m in \u001b[0;36m__getitem__\u001b[0;34m(self, key)\u001b[0m\n\u001b[1;32m   3759\u001b[0m             \u001b[0;32mif\u001b[0m \u001b[0mself\u001b[0m\u001b[0;34m.\u001b[0m\u001b[0mcolumns\u001b[0m\u001b[0;34m.\u001b[0m\u001b[0mnlevels\u001b[0m \u001b[0;34m>\u001b[0m \u001b[0;36m1\u001b[0m\u001b[0;34m:\u001b[0m\u001b[0;34m\u001b[0m\u001b[0;34m\u001b[0m\u001b[0m\n\u001b[1;32m   3760\u001b[0m                 \u001b[0;32mreturn\u001b[0m \u001b[0mself\u001b[0m\u001b[0;34m.\u001b[0m\u001b[0m_getitem_multilevel\u001b[0m\u001b[0;34m(\u001b[0m\u001b[0mkey\u001b[0m\u001b[0;34m)\u001b[0m\u001b[0;34m\u001b[0m\u001b[0;34m\u001b[0m\u001b[0m\n\u001b[0;32m-> 3761\u001b[0;31m             \u001b[0mindexer\u001b[0m \u001b[0;34m=\u001b[0m \u001b[0mself\u001b[0m\u001b[0;34m.\u001b[0m\u001b[0mcolumns\u001b[0m\u001b[0;34m.\u001b[0m\u001b[0mget_loc\u001b[0m\u001b[0;34m(\u001b[0m\u001b[0mkey\u001b[0m\u001b[0;34m)\u001b[0m\u001b[0;34m\u001b[0m\u001b[0;34m\u001b[0m\u001b[0m\n\u001b[0m\u001b[1;32m   3762\u001b[0m             \u001b[0;32mif\u001b[0m \u001b[0mis_integer\u001b[0m\u001b[0;34m(\u001b[0m\u001b[0mindexer\u001b[0m\u001b[0;34m)\u001b[0m\u001b[0;34m:\u001b[0m\u001b[0;34m\u001b[0m\u001b[0;34m\u001b[0m\u001b[0m\n\u001b[1;32m   3763\u001b[0m                 \u001b[0mindexer\u001b[0m \u001b[0;34m=\u001b[0m \u001b[0;34m[\u001b[0m\u001b[0mindexer\u001b[0m\u001b[0;34m]\u001b[0m\u001b[0;34m\u001b[0m\u001b[0;34m\u001b[0m\u001b[0m\n",
            "\u001b[0;32m/usr/local/lib/python3.10/dist-packages/pandas/core/indexes/base.py\u001b[0m in \u001b[0;36mget_loc\u001b[0;34m(self, key)\u001b[0m\n\u001b[1;32m   3653\u001b[0m             \u001b[0;32mreturn\u001b[0m \u001b[0mself\u001b[0m\u001b[0;34m.\u001b[0m\u001b[0m_engine\u001b[0m\u001b[0;34m.\u001b[0m\u001b[0mget_loc\u001b[0m\u001b[0;34m(\u001b[0m\u001b[0mcasted_key\u001b[0m\u001b[0;34m)\u001b[0m\u001b[0;34m\u001b[0m\u001b[0;34m\u001b[0m\u001b[0m\n\u001b[1;32m   3654\u001b[0m         \u001b[0;32mexcept\u001b[0m \u001b[0mKeyError\u001b[0m \u001b[0;32mas\u001b[0m \u001b[0merr\u001b[0m\u001b[0;34m:\u001b[0m\u001b[0;34m\u001b[0m\u001b[0;34m\u001b[0m\u001b[0m\n\u001b[0;32m-> 3655\u001b[0;31m             \u001b[0;32mraise\u001b[0m \u001b[0mKeyError\u001b[0m\u001b[0;34m(\u001b[0m\u001b[0mkey\u001b[0m\u001b[0;34m)\u001b[0m \u001b[0;32mfrom\u001b[0m \u001b[0merr\u001b[0m\u001b[0;34m\u001b[0m\u001b[0;34m\u001b[0m\u001b[0m\n\u001b[0m\u001b[1;32m   3656\u001b[0m         \u001b[0;32mexcept\u001b[0m \u001b[0mTypeError\u001b[0m\u001b[0;34m:\u001b[0m\u001b[0;34m\u001b[0m\u001b[0;34m\u001b[0m\u001b[0m\n\u001b[1;32m   3657\u001b[0m             \u001b[0;31m# If we have a listlike key, _check_indexing_error will raise\u001b[0m\u001b[0;34m\u001b[0m\u001b[0;34m\u001b[0m\u001b[0m\n",
            "\u001b[0;31mKeyError\u001b[0m: 0"
          ]
        }
      ],
      "source": [
        "import pandas as pd\n",
        "import numpy as np\n",
        "import matplotlib.pyplot as plt\n",
        "source = 'https://uk.wikipedia.org/wiki/%D0%9D%D0%B0%D1%81%D0%B5%D0%BB%D0%B5%D0%BD%D0%BD%D1%8F_%D0%A3%D0%BA%D1%80%D0%B0%D1%97%D0%BD%D0%B8#%D0%9D%D0%B0%D1%80%D0%BE%D0%B4%D0%B6%D1%83%D0%B2%D0%B0%D0%BD%D1%96%D1%81%D1%82%D1%8C'\n",
        "df = pd.read_html(source, match='Коефіцієнт народжуваності в регіонах України', thousands=\".\", decimal=\",\")[0]\n",
        "print(df.head)\n",
        "\n",
        "# Перевірка кількості таблиць на сторінці\n",
        "print(f\"Знайдено таблиць: {len(df)}\")\n",
        "\n",
        "# Вибір потрібної таблиці\n",
        "table1 = df[0]\n",
        "\n",
        "# Виведення перших рядків таблиці\n",
        "print(table1.head())\n",
        "#Визначте кількість рядків та стовпців у датафреймі (атрибут shape)\n",
        "lines, columns = df.shape\n",
        "print(f'Number of lines: {lines}')\n",
        "print(f'Number of columns: {columns}')\n",
        "\n",
        "# Замінюємо значення \"—\" на NaN\n",
        "table1.replace(\"—\", np.nan, inplace=True)\n",
        "# Визначення регіону з найвищою народжуваністю у 2014 році\n",
        "max_birth_rate_2014 = df['2014'].max()\n",
        "region_max_birth_rate_2014 = df[df['2014'] == max_birth_rate_2014]['Регіон'].iloc[0]\n",
        "\n",
        "# Виведення результату\n",
        "print(f\"Регіон з найвищою народжуваністю у 2014 році: {region_max_birth_rate_2014}\")\n",
        "\n",
        "# Побудова стовпчикової діаграми народжуваності по регіонах у 2019 році\n",
        "plt.figure(figsize=(10, 8))\n",
        "plt.bar(df['Регіон'], df['2019'])\n",
        "plt.xlabel('Регіони')\n",
        "plt.ylabel('Народжуваність у 2019 році')\n",
        "\n",
        "\n",
        "# Виведення перших рядків оновленої таблиці\n",
        "print(table1.head())\n",
        "\n",
        "# Виводимо типи всіх стовпців\n",
        "print(df.dtypes)\n",
        "# Перетворюємо всі стовпці, які містять NaN (після заміни \"—\") на числові\n",
        "df = df.apply(pd.to_numeric, errors='coerce')\n",
        "# Визначаємо типи стовпців після перетворення\n",
        "print(\"\\nТипи стовпців після перетворення:\")\n",
        "print(df.dtypes)\n",
        "f = df.apply(pd.to_numeric, errors='ignore')\n",
        "\n",
        "# Заміна відсутніх даних середніми значеннями\n",
        "df.fillna(df.mean(), inplace=True)\n",
        "\n",
        "# Отримання середнього рівня народжуваності по Україні у 2019 році\n",
        "average_birth_rate_2019 = df['2019'].mean()\n",
        "\n",
        "# Отримання списку регіонів, де рівень народжуваності у 2019 році був вищим за середній по Україні\n",
        "regions_above_average_2019 = df[df['2019'] > average_birth_rate_2019]['Регіон']\n",
        "\n",
        "# Виведення результату\n",
        "print(\"Регіони з рівнем народжуваності у 2019 році, що вищий за середній по Україні:\")\n",
        "print(regions_above_average_2019)\n",
        "\n",
        "# Перегляд перших рядків таблиці\n",
        "print(\"\\nПерші рядки таблиці:\")\n",
        "print(df.head())\n",
        "\n",
        "# Визначаємо частку пропусків у кожній колонці\n",
        "missing_fraction = df.isnull().sum() / len(df)\n",
        "\n",
        "print(\"Частка пропусків у кожній колонці:\")\n",
        "print(missing_fraction)\n",
        "\n",
        "# Видаляємо останній рядок таблиці\n",
        "df = df.iloc[:-1]\n",
        "\n",
        "# Перевірка результату\n",
        "print(\"\\nТаблиця після видалення останнього рядка:\")\n",
        "print(df.tail())\n"
      ]
    }
  ]
}