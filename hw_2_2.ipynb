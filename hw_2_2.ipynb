{
 "cells": [
  {
   "cell_type": "code",
   "execution_count": 11,
   "id": "03fc462b-e641-45f8-b515-8c329df3bddc",
   "metadata": {
    "tags": []
   },
   "outputs": [
    {
     "name": "stdout",
     "output_type": "stream",
     "text": [
      "   N                    Посада Мова програмування Спеціалізація  \\\n",
      "0  1        Junior QA engineer                NaN     Manual QA   \n",
      "1  2        Junior QA engineer                NaN     Manual QA   \n",
      "2  3         Software Engineer            C#/.NET           NaN   \n",
      "3  4         Software Engineer         JavaScript           NaN   \n",
      "4  5  Senior Software Engineer         JavaScript           NaN   \n",
      "\n",
      "  Загальний досвід роботи Досвід роботи на поточному місці  \\\n",
      "0                     0.5                              0.5   \n",
      "1         менше 3 місяців                  менше 3 місяців   \n",
      "2                       4                                1   \n",
      "3                       5                                4   \n",
      "4       10 і більше років                              0.5   \n",
      "\n",
      "   Зарплата на місяць  Зміна зарплати за 12 місяців   Місто   Розмір компанії  \\\n",
      "0                 400                             0  Харків        до 10 осіб   \n",
      "1                 430                           130  Харків  більше 1000 осіб   \n",
      "2                2500                           800    Київ      до 1000 осіб   \n",
      "3                2000                           400   Одеса       до 200 осіб   \n",
      "4                4500                           500    Інше        до 10 осіб   \n",
      "\n",
      "   ... Ще студент                    Рівень англійської  \\\n",
      "0  ...       True    Pre-intermediate (нище середнього)   \n",
      "1  ...       True  Upper-Intermediate (вище середнього)   \n",
      "2  ...      False               Intermediate (середній)   \n",
      "3  ...      False    Pre-intermediate (нище середнього)   \n",
      "4  ...      False               Intermediate (середній)   \n",
      "\n",
      "                   Предметна область      Дата заповнення  \\\n",
      "0                      iOS,eCommerce  12/06/2017 12:38:08   \n",
      "1                       Веб-розробка  12/06/2017 12:42:51   \n",
      "2  Веб-розробка,Корпоративні системи  12/06/2017 13:02:47   \n",
      "3  Desktop Applications,Веб-розробка  12/06/2017 13:03:01   \n",
      "4  Desktop Applications,Веб-розробка  12/06/2017 13:03:47   \n",
      "\n",
      "                                          User.Agent   exp current_job_exp  \\\n",
      "0  Mozilla/5.0 (Windows NT 10.0; Win64; x64) Appl...   0.5             0.5   \n",
      "1  Mozilla/5.0 (iPad; CPU OS 10_2_1 like Mac OS X...   0.0             0.0   \n",
      "2  Mozilla/5.0 (Windows NT 10.0; Win64; x64) Appl...   4.0             1.0   \n",
      "3  Mozilla/5.0 (Windows NT 6.1; Win64; x64) Apple...   5.0             4.0   \n",
      "4  Mozilla/5.0 (iPhone; CPU iPhone OS 10_3_2 like...  10.0             0.5   \n",
      "\n",
      "  salary Валюта  cls  \n",
      "0    400    NaN   QA  \n",
      "1    430    NaN   QA  \n",
      "2   2500    NaN  DEV  \n",
      "3   2000    NaN  DEV  \n",
      "4   4500    NaN  DEV  \n",
      "\n",
      "[5 rows x 25 columns]\n"
     ]
    }
   ],
   "source": [
    "# Прочитайте файл 2017_jun_final.csv с помощью метода read_csv\n",
    "# Прочитайте полученную таблицу используя метод head\n",
    "import pandas as pd\n",
    "data = pd.read_csv('2017_jun.csv')\n",
    "print(data.head())"
   ]
  },
  {
   "cell_type": "code",
   "execution_count": null,
   "id": "82b92845-7967-4c0b-abdb-bab2b009a80d",
   "metadata": {},
   "outputs": [],
   "source": []
  },
  {
   "cell_type": "code",
   "execution_count": null,
   "id": "87592e19-6911-4c65-93fd-29e589d6aace",
   "metadata": {},
   "outputs": [],
   "source": []
  },
  {
   "cell_type": "code",
   "execution_count": null,
   "id": "14c2a42c-6f06-45e6-a68d-dd25340d0b2b",
   "metadata": {},
   "outputs": [],
   "source": []
  },
  {
   "cell_type": "code",
   "execution_count": null,
   "id": "6e3689db-777d-4bba-942f-75dee626f136",
   "metadata": {},
   "outputs": [],
   "source": []
  }
 ],
 "metadata": {
  "kernelspec": {
   "display_name": "Python 3 (ipykernel)",
   "language": "python",
   "name": "python3"
  },
  "language_info": {
   "codemirror_mode": {
    "name": "ipython",
    "version": 3
   },
   "file_extension": ".py",
   "mimetype": "text/x-python",
   "name": "python",
   "nbconvert_exporter": "python",
   "pygments_lexer": "ipython3",
   "version": "3.9.2"
  }
 },
 "nbformat": 4,
 "nbformat_minor": 5
}
